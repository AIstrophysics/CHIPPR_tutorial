{
 "cells": [
  {
   "cell_type": "code",
   "execution_count": null,
   "id": "00ba5f1e",
   "metadata": {},
   "outputs": [],
   "source": [
    "!git clone https://github.com/AIstrophysics/chippr.git"
   ]
  },
  {
   "cell_type": "code",
   "execution_count": null,
   "id": "e55225e9",
   "metadata": {
    "scrolled": true
   },
   "outputs": [],
   "source": [
    "%cd chippr"
   ]
  },
  {
   "cell_type": "code",
   "execution_count": null,
   "id": "1001b1e4",
   "metadata": {},
   "outputs": [],
   "source": [
    "import sys\n",
    "sys.path.append('/home/jovyan/AST424/chippr')"
   ]
  },
  {
   "cell_type": "code",
   "execution_count": null,
   "id": "ac586fda",
   "metadata": {},
   "outputs": [],
   "source": [
    "%cd /home/jovyan/AST424/chippr"
   ]
  },
  {
   "cell_type": "code",
   "execution_count": null,
   "id": "13fbfb3d",
   "metadata": {
    "scrolled": true
   },
   "outputs": [],
   "source": [
    "pip install -r /home/jovyan/AST424/chippr/requirements.txt"
   ]
  },
  {
   "cell_type": "code",
   "execution_count": null,
   "id": "5786fb79",
   "metadata": {},
   "outputs": [],
   "source": [
    "import sys\n",
    "sys.path.append('/home/jovyan/AST424/chippr/chippr')\n",
    "print(sys.path)"
   ]
  },
  {
   "cell_type": "code",
   "execution_count": null,
   "id": "bf090e6d",
   "metadata": {},
   "outputs": [],
   "source": [
    "import chippr\n",
    "print(dir(chippr))"
   ]
  },
  {
   "cell_type": "code",
   "execution_count": null,
   "id": "8eae54f5",
   "metadata": {},
   "outputs": [],
   "source": [
    "import numpy as np\n",
    "import matplotlib.pyplot as plt\n",
    "%matplotlib inline\n",
    "import timeit\n",
    "import cProfile, pstats\n",
    "from io import StringIO  #, StringIO in python2, changed for python3\n",
    "import os\n",
    "\n",
    "import chippr"
   ]
  },
  {
   "cell_type": "code",
   "execution_count": null,
   "id": "b28ec2e6",
   "metadata": {},
   "outputs": [],
   "source": [
    "true_amps = np.array([0.20, 0.35, 0.55])\n",
    "true_means = np.array([0.5, 0.2, 0.75])\n",
    "true_sigmas = np.array([0.4, 0.2, 0.1])\n",
    "n_mix_comps = len(true_amps)\n",
    "\n",
    "true_funcs = []\n",
    "for c in range(n_mix_comps):\n",
    "    true_funcs.append(chippr.gauss(true_means[c], true_sigmas[c]**2))\n",
    "\n",
    "true_nz = chippr.gmix(true_amps, true_funcs, limits=(0., 1.))"
   ]
  },
  {
   "cell_type": "markdown",
   "id": "2eb7eb2a",
   "metadata": {},
   "source": [
    "Input params.txt file, could be downloaded from Github: https://github.com/AIstrophysics/chippr/blob/master/docs/notebooks"
   ]
  },
  {
   "cell_type": "code",
   "execution_count": null,
   "id": "4a80b345",
   "metadata": {},
   "outputs": [],
   "source": [
    "param_loc = '/home/jovyan/AST424/params.txt'\n",
    "params = chippr.utils.ingest(param_loc)\n",
    "params = chippr.defaults.check_sim_params(params) \n",
    "print(params)"
   ]
  },
  {
   "cell_type": "markdown",
   "id": "30eb264a",
   "metadata": {},
   "source": [
    "Discrete distribution- uniform distribution is used here as the interim prior redshift distribution (serves as p(phi)). Check later if the continous distribution works here? "
   ]
  },
  {
   "cell_type": "code",
   "execution_count": null,
   "id": "8442297d",
   "metadata": {},
   "outputs": [],
   "source": [
    "bin_ends = np.array([params['bin_min'], params['bin_max']])\n",
    "weights = np.array([1.])\n",
    "\n",
    "int_prior = chippr.discrete(bin_ends, weights)"
   ]
  },
  {
   "cell_type": "code",
   "execution_count": null,
   "id": "1f2c38bb",
   "metadata": {
    "scrolled": true
   },
   "outputs": [],
   "source": [
    "results_loc = os.path.join(os.path.join(os.path.join(os.path.join('..', '..'), 'research'), 'results'), 'demo')\n",
    "\n",
    "posteriors = chippr.catalog(params=param_loc, loc=results_loc)\n",
    "\n",
    "output = posteriors.create(true_nz, int_prior)\n",
    "\n",
    "data = np.exp(output['log_interim_posteriors'])"
   ]
  },
  {
   "cell_type": "code",
   "execution_count": null,
   "id": "019e6226",
   "metadata": {},
   "outputs": [],
   "source": [
    "plt.hist(posteriors.samps.T[1], bins=100, density=True, color=\"k\")\n",
    "plt.plot(posteriors.z_coarse, true_nz.evaluate(posteriors.z_coarse), \"r-\")\n",
    "#plt.plot(posteriors.z_coarse, np.sum(data, axis=0) / 10**params['n_gals'], \"go\")\n",
    "plt.xlabel(\"z\")"
   ]
  }
 ],
 "metadata": {
  "kernelspec": {
   "display_name": "Python 3 (ipykernel)",
   "language": "python",
   "name": "python3"
  },
  "language_info": {
   "codemirror_mode": {
    "name": "ipython",
    "version": 3
   },
   "file_extension": ".py",
   "mimetype": "text/x-python",
   "name": "python",
   "nbconvert_exporter": "python",
   "pygments_lexer": "ipython3",
   "version": "3.11.6"
  }
 },
 "nbformat": 4,
 "nbformat_minor": 5
}
